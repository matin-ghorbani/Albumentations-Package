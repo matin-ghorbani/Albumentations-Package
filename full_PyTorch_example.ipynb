{
 "cells": [
  {
   "cell_type": "code",
   "execution_count": 2,
   "metadata": {},
   "outputs": [],
   "source": [
    "import os\n",
    "\n",
    "import torch\n",
    "from torch import nn"
   ]
  },
  {
   "cell_type": "code",
   "execution_count": 3,
   "metadata": {},
   "outputs": [],
   "source": [
    "import cv2 as cv\n",
    "import numpy as np\n",
    "import matplotlib.pyplot as plt\n",
    "\n",
    "import albumentations as A\n",
    "from albumentations.pytorch import ToTensorV2\n",
    "\n",
    "import utils as ul"
   ]
  },
  {
   "cell_type": "code",
   "execution_count": 11,
   "metadata": {},
   "outputs": [],
   "source": [
    "class ImageFolder(nn.Module):\n",
    "    def __init__(self, root_dir: str, transform=None, *args, **kwargs) -> None:\n",
    "        super().__init__(*args, **kwargs)\n",
    "\n",
    "        self.data = []\n",
    "\n",
    "        self.root_dir = root_dir\n",
    "        self.transform = transform\n",
    "\n",
    "        self.class_names = os.listdir(root_dir)\n",
    "\n",
    "        for idx, name in enumerate(self.class_names):\n",
    "            files = os.listdir(os.path.join(root_dir, name))\n",
    "\n",
    "            self.data += list(zip(files, [idx] * len(files)))\n",
    "    \n",
    "    def __len__(self) -> int:\n",
    "        return len(self.data)\n",
    "    \n",
    "    def __getitem__(self, idx: int):\n",
    "        img_file, label = self.data[idx]\n",
    "\n",
    "        root_and_dir = os.path.join(self.root_dir, self.class_names[label])\n",
    "        img = cv.cvtColor(cv.imread(os.path.join(root_and_dir, img_file)), cv.COLOR_BGR2RGB)\n",
    "\n",
    "        if self.transform:\n",
    "            augs = self.transform(image=img)\n",
    "\n",
    "            img = augs['image']\n",
    "        \n",
    "        return img, label"
   ]
  },
  {
   "cell_type": "code",
   "execution_count": 12,
   "metadata": {},
   "outputs": [],
   "source": [
    "transform = A.Compose([\n",
    "    A.Resize(width=1920, height=1080),\n",
    "    A.RandomCrop(width=1280, height=720),\n",
    "    A.Rotate(limit=40, p=.9, border_mode=cv.BORDER_CONSTANT),\n",
    "\n",
    "    A.HorizontalFlip(p=.5),\n",
    "    A.VerticalFlip(p=.1),\n",
    "\n",
    "    A.RGBShift(\n",
    "        r_shift_limit=25,\n",
    "        g_shift_limit=25,\n",
    "        b_shift_limit=25,\n",
    "\n",
    "        p=.9\n",
    "    ),\n",
    "\n",
    "    A.OneOf([  # In 100% of cases one these transformations will be chosen\n",
    "        A.Blur(blur_limit=3, p=.5),\n",
    "        A.ColorJitter(p=.5)\n",
    "    ], p=1.),\n",
    "\n",
    "    A.Normalize(\n",
    "        mean=[0., 0., 0.],\n",
    "        std=[1., 1., 1.],\n",
    "\n",
    "        max_pixel_value=255\n",
    "    ),\n",
    "\n",
    "    ToTensorV2(),\n",
    "])"
   ]
  },
  {
   "cell_type": "code",
   "execution_count": 13,
   "metadata": {},
   "outputs": [
    {
     "name": "stdout",
     "output_type": "stream",
     "text": [
      "x.shape = torch.Size([3, 720, 1280])\n",
      "x.shape = torch.Size([3, 720, 1280])\n",
      "x.shape = torch.Size([3, 720, 1280])\n",
      "x.shape = torch.Size([3, 720, 1280])\n",
      "x.shape = torch.Size([3, 720, 1280])\n",
      "x.shape = torch.Size([3, 720, 1280])\n",
      "x.shape = torch.Size([3, 720, 1280])\n",
      "x.shape = torch.Size([3, 720, 1280])\n",
      "x.shape = torch.Size([3, 720, 1280])\n",
      "x.shape = torch.Size([3, 720, 1280])\n",
      "x.shape = torch.Size([3, 720, 1280])\n",
      "x.shape = torch.Size([3, 720, 1280])\n",
      "x.shape = torch.Size([3, 720, 1280])\n",
      "x.shape = torch.Size([3, 720, 1280])\n",
      "x.shape = torch.Size([3, 720, 1280])\n",
      "x.shape = torch.Size([3, 720, 1280])\n",
      "x.shape = torch.Size([3, 720, 1280])\n",
      "x.shape = torch.Size([3, 720, 1280])\n",
      "x.shape = torch.Size([3, 720, 1280])\n"
     ]
    }
   ],
   "source": [
    "dataset = ImageFolder(root_dir='./dataset', transform=transform)\n",
    "for x, y in dataset:\n",
    "    print(f'{x.shape = }')"
   ]
  }
 ],
 "metadata": {
  "kernelspec": {
   "display_name": "Python 3",
   "language": "python",
   "name": "python3"
  },
  "language_info": {
   "codemirror_mode": {
    "name": "ipython",
    "version": 3
   },
   "file_extension": ".py",
   "mimetype": "text/x-python",
   "name": "python",
   "nbconvert_exporter": "python",
   "pygments_lexer": "ipython3",
   "version": "3.10.0"
  }
 },
 "nbformat": 4,
 "nbformat_minor": 2
}
